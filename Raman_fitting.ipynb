{
 "cells": [
  {
   "cell_type": "code",
   "execution_count": 1,
   "id": "f70aecc9-5a47-4ba8-9301-f4a00ddc5d01",
   "metadata": {},
   "outputs": [],
   "source": [
    "files_folder = 'Data'\n",
    "Results_folder = 'Results'"
   ]
  },
  {
   "cell_type": "markdown",
   "id": "296c9adf-0dbf-4ed7-8d59-8ae4512a1157",
   "metadata": {},
   "source": [
    "## Split header and data"
   ]
  },
  {
   "cell_type": "code",
   "execution_count": 2,
   "id": "cc632ba5-f3d2-4be2-9026-60b7072655d9",
   "metadata": {},
   "outputs": [],
   "source": [
    "import csv\n",
    "import chardet\n",
    "from os import listdir, path, makedirs"
   ]
  },
  {
   "cell_type": "code",
   "execution_count": 3,
   "id": "bfd3e660-2e1f-411d-8c14-44c65f3ed789",
   "metadata": {},
   "outputs": [],
   "source": [
    "def files_path_searcher(files_folder):\n",
    "    files = [path.join(files_folder, f) for f in listdir(files_folder) if path.isfile(path.join(files_folder, f))]\n",
    "    return files"
   ]
  },
  {
   "cell_type": "code",
   "execution_count": 4,
   "id": "fd742e2e-c9c2-452e-af58-a445167c3f7e",
   "metadata": {},
   "outputs": [],
   "source": [
    "def path_helper(file_path):\n",
    "    file_name = path.split(file_path)[1].split(sep='.')[0]\n",
    "    folder_path = path.join(Results_folder, file_name)\n",
    "    header_path = path.join(folder_path,'header.txt')\n",
    "    data_path = path.join(folder_path,'data.csv')\n",
    "    fig_path = path.join(folder_path,file_name)\n",
    "    if not path.exists(folder_path):\n",
    "        makedirs(folder_path)\n",
    "    return [header_path, data_path,fig_path,folder_path]"
   ]
  },
  {
   "cell_type": "code",
   "execution_count": 5,
   "id": "9a5d225c-ad55-499f-8d51-ad7bb588ffcf",
   "metadata": {},
   "outputs": [],
   "source": [
    "def detect_encoding(file_path):\n",
    "    with open(file_path, 'rb') as file:\n",
    "        raw_data = file.read()\n",
    "    return chardet.detect(raw_data)['encoding']\n",
    "\n",
    "def split_file(input_file, txt_output, csv_output):\n",
    "    encoding = detect_encoding(input_file)\n",
    "    \n",
    "    with open(input_file, 'r', encoding=encoding) as infile, \\\n",
    "         open(txt_output, 'w', encoding='utf-8') as txt_out, \\\n",
    "         open(csv_output, 'w', newline='', encoding='utf-8') as csv_out:\n",
    "        \n",
    "        csv_writer = csv.writer(csv_out)\n",
    "        flag = 0\n",
    "        for line in infile:\n",
    "            if flag == 1:\n",
    "                # Write this line and all subsequent lines to the CSV file\n",
    "                csv_writer.writerow(line.strip().split('\\t'))\n",
    "                for line in infile:\n",
    "                    csv_writer.writerow(line.strip().split('\\t'))\n",
    "            else:\n",
    "                # Write lines before the specified line to the TXT file\n",
    "                txt_out.write(line)\n",
    "            if 'rel. 1/cm\\tCCD cts' in line:\n",
    "                flag = 1"
   ]
  },
  {
   "cell_type": "markdown",
   "id": "625ef105-e0ce-45b1-b6a6-05e098fc11e7",
   "metadata": {},
   "source": [
    "## Read data"
   ]
  },
  {
   "cell_type": "code",
   "execution_count": 6,
   "id": "4ee762fb-a0ca-4954-b5b5-407a82a8ebf3",
   "metadata": {},
   "outputs": [],
   "source": [
    "import matplotlib.pyplot as plt\n",
    "import numpy as np\n",
    "from lmfit import Model, Parameters\n",
    "from scipy.signal import find_peaks"
   ]
  },
  {
   "cell_type": "code",
   "execution_count": 7,
   "id": "e716b0e8-448b-4506-a8f7-8045fbad42d7",
   "metadata": {},
   "outputs": [],
   "source": [
    "def read_data(data_path, fig_path):\n",
    "    data = np.genfromtxt(data_path, delimiter=',',)\n",
    "    x = data[:,0]\n",
    "    y = data[:,1]\n",
    "    plt.figure(1)\n",
    "    plt.xlabel('Raman Shift (1/cm)')\n",
    "    plt.ylabel('Intensity (a.u)')\n",
    "    plt.plot(x,y)\n",
    "    plt.savefig(fig_path+ '.svg', dpi=300, bbox_inches = 'tight')\n",
    "    plt.savefig(fig_path+ '.png', dpi=300, bbox_inches = 'tight')\n",
    "    plt.close(1)\n",
    "    return [x,y]"
   ]
  },
  {
   "cell_type": "markdown",
   "id": "216a425f",
   "metadata": {},
   "source": [
    "## Analyze data"
   ]
  },
  {
   "cell_type": "code",
   "execution_count": 8,
   "id": "3857fc91-2b92-4091-9a47-4dbf33185e15",
   "metadata": {},
   "outputs": [],
   "source": [
    "def lorentzian(x, amplitude, center, sigma):\n",
    "    return amplitude * (sigma**2 / ((x - center)**2 + sigma**2))\n",
    "\n",
    "def analyze_data(data, fig_path, folder_path):\n",
    "    x, y = data[0], data[1]\n",
    "    # Find peaks\n",
    "    peaks, _ = find_peaks(y, height=0.5, distance=50)\n",
    "    \n",
    "    # Create a composite model with multiple Lorentzian peaks\n",
    "    model = None\n",
    "    params = Parameters()\n",
    "    for i, peak in enumerate(peaks):\n",
    "        peak_model = Model(lorentzian, prefix=f'p{i}_')\n",
    "        if model is None:\n",
    "            model = peak_model\n",
    "        else:\n",
    "            model += peak_model\n",
    "        params.add(f'p{i}_amplitude', value=y[peak], min=0)\n",
    "        params.add(f'p{i}_center', value=x[peak], min=x.min(), max=x.max())\n",
    "        params.add(f'p{i}_sigma', value=20, min=1)\n",
    "    \n",
    "    # Fit the model to the data\n",
    "    result = model.fit(y, params, x=x)\n",
    "    \n",
    "    # Print the fit results\n",
    "    fit_results_path = path.join(folder_path,'results_fitted.txt')\n",
    "    with open(fit_results_path, 'w', encoding='utf-8') as txt_out:\n",
    "        txt_out.write(result.fit_report())\n",
    "    \n",
    "    # Plot the results\n",
    "    plt.figure(2,figsize=(12, 6))\n",
    "    plt.plot(x, y, 'b-', label='Data')\n",
    "    plt.plot(x, result.best_fit, 'r-', label='Fit')\n",
    "    plt.plot(x[peaks], y[peaks], \"ko\", label='Detected Peaks')\n",
    "    \n",
    "    # Plot individual Lorentzian components\n",
    "    components = result.eval_components(x=x)\n",
    "    for i, component in enumerate(components):\n",
    "        plt.plot(x, components[component], '--', label=f'Peak {i+1}')\n",
    "    \n",
    "    plt.legend(bbox_to_anchor=(0, 1.08, 1, 0.2), loc=\"lower left\", mode=\"expand\", borderaxespad=0, ncol=6)\n",
    "    plt.xlabel('Raman Shift (cm^-1)')\n",
    "    plt.ylabel('Intensity')\n",
    "    plt.title('RAMAN Data Analysis with Multiple Lorentzian Models')\n",
    "    plt.plot()\n",
    "    plt.savefig(fig_path+ '_fitted.svg', dpi=300, bbox_inches = 'tight')\n",
    "    plt.savefig(fig_path+ '_fitted.png', dpi=300, bbox_inches = 'tight')\n",
    "    plt.close(2)\n",
    "    \n",
    "    # Extract and print fitted parameters\n",
    "    peaks_results_path = path.join(folder_path,'results_peaks_info.txt')\n",
    "    with open(peaks_results_path, 'w', encoding='utf-8') as txt_out:\n",
    "        for i in range(len(peaks)):\n",
    "            amp = result.params[f'p{i}_amplitude'].value\n",
    "            cen = result.params[f'p{i}_center'].value\n",
    "            sig = result.params[f'p{i}_sigma'].value\n",
    "            txt_out.write(f\"Peak {i+1}:\\n\")\n",
    "            txt_out.write(f\"  Amplitude: {amp:.2f}\\n\")\n",
    "            txt_out.write(f\"  Center: {cen:.2f}\\n\")\n",
    "            txt_out.write(f\"  Sigma: {sig:.2f}\\n\")"
   ]
  },
  {
   "cell_type": "markdown",
   "id": "fbb8b958-506a-48f7-93a8-f441dfe11531",
   "metadata": {},
   "source": [
    "## Execute"
   ]
  },
  {
   "cell_type": "code",
   "execution_count": 9,
   "id": "2ecce638-c518-4255-8a6d-7c24485ae69d",
   "metadata": {},
   "outputs": [],
   "source": [
    "file_paths = files_path_searcher(files_folder)\n",
    "for file_path in file_paths:\n",
    "    data = []\n",
    "    header_path, data_path, fig_path, results_path = path_helper(file_path)\n",
    "    split_file(file_path, header_path, data_path)\n",
    "    data = read_data(data_path,fig_path)\n",
    "    analyze_data(data, fig_path, results_path)"
   ]
  }
 ],
 "metadata": {
  "kernelspec": {
   "display_name": "Python 3 (ipykernel)",
   "language": "python",
   "name": "python3"
  },
  "language_info": {
   "codemirror_mode": {
    "name": "ipython",
    "version": 3
   },
   "file_extension": ".py",
   "mimetype": "text/x-python",
   "name": "python",
   "nbconvert_exporter": "python",
   "pygments_lexer": "ipython3",
   "version": "3.12.4"
  }
 },
 "nbformat": 4,
 "nbformat_minor": 5
}
